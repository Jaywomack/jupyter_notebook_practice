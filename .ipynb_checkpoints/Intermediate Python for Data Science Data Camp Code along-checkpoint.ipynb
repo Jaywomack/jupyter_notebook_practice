{
 "cells": [
  {
   "cell_type": "code",
   "execution_count": 30,
   "metadata": {},
   "outputs": [
    {
     "data": {
      "image/png": "[encoded data removed]",
      "text/plain": [
       "<Figure size 432x288 with 1 Axes>"
      ]
     },
     "metadata": {
      "needs_background": "light"
     },
     "output_type": "display_data"
    }
   ],
   "source": [
    "%matplotlib inline\n",
    "import matplotlib.pyplot as plt\n",
    "\n",
    "values = [0,0.3,0.6,0.5,0.5,1.5,0.5,.5,.6,.4,.7,.78,.9,.5,]\n",
    "plt.hist(values, bins=3)\n",
    "plt.show()"
   ]
  },
  {
   "cell_type": "markdown",
   "metadata": {},
   "source": [
    "<h1>This is a scatterplot</h1>"
   ]
  },
  {
   "cell_type": "markdown",
   "metadata": {},
   "source": [
    "# Customization "
   ]
  },
  {
   "cell_type": "code",
   "execution_count": 31,
   "metadata": {
    "scrolled": true
   },
   "outputs": [
    {
     "data": {
      "image/png": "[encoded data removed]",
      "text/plain": [
       "<Figure size 432x288 with 1 Axes>"
      ]
     },
     "metadata": {
      "needs_background": "light"
     },
     "output_type": "display_data"
    }
   ],
   "source": [
    "year = [1950, 1951, 1952,  2100] \n",
    "pop = [2.538, 2.57, 2.62,  10.85] \n",
    "\n",
    "# add more data\n",
    "year = [1800, 1850, 1900] + year\n",
    "pop = [1.0,1.262, 1.650] + pop\n",
    "\n",
    "plt.plot(year, pop)\n",
    "\n",
    "plt.xlabel(\"Year\")\n",
    "plt.ylabel(\"Population\")\n",
    "plt.title(\"World Population Projections\")\n",
    "plt.yticks([0,2,4,6,8,10],\n",
    "          ['0','2b','4b','6b','8b','10b'])\n",
    "\n",
    "plt.show()"
   ]
  },
  {
   "cell_type": "markdown",
   "metadata": {},
   "source": [
    "# Dictionaries Part I"
   ]
  },
  {
   "cell_type": "code",
   "execution_count": 32,
   "metadata": {},
   "outputs": [],
   "source": [
    "# These are lists\n",
    "pop = [30.55, 2.77, 29.21]\n",
    "countries = [\"afghanistan\",\"albania\",\"algeria\"]\n",
    "\n",
    "# This is a dictionary\n",
    "world = {\"afghanistan\":30.55, \"albania\": 20.45, \"algeria\": 3.55}\n",
    "world[\"sealand\"] = 0.000027\n",
    "\n"
   ]
  },
  {
   "cell_type": "code",
   "execution_count": 33,
   "metadata": {},
   "outputs": [
    {
     "name": "stdout",
     "output_type": "stream",
     "text": [
      "{'afghanistan': 30.55, 'albania': 20.45, 'algeria': 3.55, 'sealand': 2.7e-05}\n"
     ]
    }
   ],
   "source": [
    "print(world)"
   ]
  },
  {
   "cell_type": "code",
   "execution_count": 34,
   "metadata": {},
   "outputs": [],
   "source": [
    "del(world[\"sealand\"])"
   ]
  },
  {
   "cell_type": "code",
   "execution_count": 35,
   "metadata": {},
   "outputs": [
    {
     "name": "stdout",
     "output_type": "stream",
     "text": [
      "{'afghanistan': 30.55, 'albania': 20.45, 'algeria': 3.55}\n"
     ]
    }
   ],
   "source": [
    "print(world)"
   ]
  },
  {
   "cell_type": "markdown",
   "metadata": {},
   "source": [
    "### The list and dict data structures are different in how they are accessed.\n",
    "#### Where a __list__ is accessed by an index that is a range of numbers\n",
    "\n",
    "#### The __dictionary__'s values can be accessed with its keys that are unique and immutable"
   ]
  },
  {
   "cell_type": "code",
   "execution_count": 36,
   "metadata": {},
   "outputs": [
    {
     "name": "stdout",
     "output_type": "stream",
     "text": [
      "29.21\n",
      "3.55\n"
     ]
    }
   ],
   "source": [
    "print(pop[-1])\n",
    "print(world['algeria'])"
   ]
  },
  {
   "cell_type": "markdown",
   "metadata": {},
   "source": [
    "### A list is preferable where order matters\n",
    "\n",
    "\n",
    "### A dictionary is preferable when you want a table with unique keys"
   ]
  },
  {
   "cell_type": "code",
   "execution_count": 37,
   "metadata": {},
   "outputs": [
    {
     "name": "stdout",
     "output_type": "stream",
     "text": [
      "paris\n",
      "The capital of France is paris.\n"
     ]
    }
   ],
   "source": [
    "europe = {'france':'paris','germany':'berlin','portugal':'lisbon','norway':'oslo','poland':'warsaw'}\n",
    "\n",
    "print(europe['france'])\n",
    "print(f\"The capital of France is {europe['france']}.\")"
   ]
  },
  {
   "cell_type": "markdown",
   "metadata": {},
   "source": [
    "# Using Pandas to create a data frame out of a dictionary"
   ]
  },
  {
   "cell_type": "code",
   "execution_count": 38,
   "metadata": {},
   "outputs": [
    {
     "data": {
      "text/html": [
       "<div>\n",
       "<style scoped>\n",
       "    .dataframe tbody tr th:only-of-type {\n",
       "        vertical-align: middle;\n",
       "    }\n",
       "\n",
       "    .dataframe tbody tr th {\n",
       "        vertical-align: top;\n",
       "    }\n",
       "\n",
       "    .dataframe thead th {\n",
       "        text-align: right;\n",
       "    }\n",
       "</style>\n",
       "<table border=\"1\" class=\"dataframe\">\n",
       "  <thead>\n",
       "    <tr style=\"text-align: right;\">\n",
       "      <th></th>\n",
       "      <th>country</th>\n",
       "      <th>capital</th>\n",
       "      <th>area</th>\n",
       "      <th>population</th>\n",
       "    </tr>\n",
       "  </thead>\n",
       "  <tbody>\n",
       "    <tr>\n",
       "      <th>0</th>\n",
       "      <td>brazil</td>\n",
       "      <td>Brasilia</td>\n",
       "      <td>8.516</td>\n",
       "      <td>200.40</td>\n",
       "    </tr>\n",
       "    <tr>\n",
       "      <th>1</th>\n",
       "      <td>Russia</td>\n",
       "      <td>Moscow</td>\n",
       "      <td>17.100</td>\n",
       "      <td>143.50</td>\n",
       "    </tr>\n",
       "    <tr>\n",
       "      <th>2</th>\n",
       "      <td>India</td>\n",
       "      <td>New Delhi</td>\n",
       "      <td>3.486</td>\n",
       "      <td>1252.00</td>\n",
       "    </tr>\n",
       "    <tr>\n",
       "      <th>3</th>\n",
       "      <td>China</td>\n",
       "      <td>Beijing</td>\n",
       "      <td>9.597</td>\n",
       "      <td>1357.00</td>\n",
       "    </tr>\n",
       "    <tr>\n",
       "      <th>4</th>\n",
       "      <td>South Africa</td>\n",
       "      <td>Pretoria</td>\n",
       "      <td>1.221</td>\n",
       "      <td>52.98</td>\n",
       "    </tr>\n",
       "  </tbody>\n",
       "</table>\n",
       "</div>"
      ],
      "text/plain": [
       "        country    capital    area  population\n",
       "0        brazil   Brasilia   8.516      200.40\n",
       "1        Russia     Moscow  17.100      143.50\n",
       "2         India  New Delhi   3.486     1252.00\n",
       "3         China    Beijing   9.597     1357.00\n",
       "4  South Africa   Pretoria   1.221       52.98"
      ]
     },
     "execution_count": 38,
     "metadata": {},
     "output_type": "execute_result"
    }
   ],
   "source": [
    "import pandas as pd\n",
    "dict = {\n",
    "    \"country\": [\"brazil\", \"Russia\", \"India\",\"China\", \"South Africa\"],\n",
    "    \"capital\": [\"Brasilia\", \"Moscow\", \"New Delhi\", \"Beijing\", \"Pretoria\"],\n",
    "    \"area\": [8.516,17.10, 3.486, 9.597, 1.221],\n",
    "    \"population\": [200.4, 143.5, 1252, 1357, 52.98]\n",
    "}\n",
    "# setting the variable brics to the value of a dataframe that is created with the pandas function \n",
    "brics = pd.DataFrame(dict)\n",
    "\n",
    "# Get a preview of the table\n",
    "brics.head()\n"
   ]
  },
  {
   "cell_type": "code",
   "execution_count": 39,
   "metadata": {},
   "outputs": [
    {
     "name": "stdout",
     "output_type": "stream",
     "text": [
      "<class 'pandas.core.frame.DataFrame'>\n",
      "RangeIndex: 5 entries, 0 to 4\n",
      "Data columns (total 4 columns):\n",
      " #   Column      Non-Null Count  Dtype  \n",
      "---  ------      --------------  -----  \n",
      " 0   country     5 non-null      object \n",
      " 1   capital     5 non-null      object \n",
      " 2   area        5 non-null      float64\n",
      " 3   population  5 non-null      float64\n",
      "dtypes: float64(2), object(2)\n",
      "memory usage: 288.0+ bytes\n"
     ]
    }
   ],
   "source": [
    "\n",
    "# get info about the data\n",
    "brics.info()"
   ]
  },
  {
   "cell_type": "code",
   "execution_count": 40,
   "metadata": {},
   "outputs": [
    {
     "data": {
      "text/html": [
       "<div>\n",
       "<style scoped>\n",
       "    .dataframe tbody tr th:only-of-type {\n",
       "        vertical-align: middle;\n",
       "    }\n",
       "\n",
       "    .dataframe tbody tr th {\n",
       "        vertical-align: top;\n",
       "    }\n",
       "\n",
       "    .dataframe thead th {\n",
       "        text-align: right;\n",
       "    }\n",
       "</style>\n",
       "<table border=\"1\" class=\"dataframe\">\n",
       "  <thead>\n",
       "    <tr style=\"text-align: right;\">\n",
       "      <th></th>\n",
       "      <th>country</th>\n",
       "      <th>capital</th>\n",
       "      <th>area</th>\n",
       "      <th>population</th>\n",
       "    </tr>\n",
       "  </thead>\n",
       "  <tbody>\n",
       "    <tr>\n",
       "      <th>BR</th>\n",
       "      <td>brazil</td>\n",
       "      <td>Brasilia</td>\n",
       "      <td>8.516</td>\n",
       "      <td>200.40</td>\n",
       "    </tr>\n",
       "    <tr>\n",
       "      <th>RU</th>\n",
       "      <td>Russia</td>\n",
       "      <td>Moscow</td>\n",
       "      <td>17.100</td>\n",
       "      <td>143.50</td>\n",
       "    </tr>\n",
       "    <tr>\n",
       "      <th>In</th>\n",
       "      <td>India</td>\n",
       "      <td>New Delhi</td>\n",
       "      <td>3.486</td>\n",
       "      <td>1252.00</td>\n",
       "    </tr>\n",
       "    <tr>\n",
       "      <th>Ch</th>\n",
       "      <td>China</td>\n",
       "      <td>Beijing</td>\n",
       "      <td>9.597</td>\n",
       "      <td>1357.00</td>\n",
       "    </tr>\n",
       "    <tr>\n",
       "      <th>SA</th>\n",
       "      <td>South Africa</td>\n",
       "      <td>Pretoria</td>\n",
       "      <td>1.221</td>\n",
       "      <td>52.98</td>\n",
       "    </tr>\n",
       "  </tbody>\n",
       "</table>\n",
       "</div>"
      ],
      "text/plain": [
       "         country    capital    area  population\n",
       "BR        brazil   Brasilia   8.516      200.40\n",
       "RU        Russia     Moscow  17.100      143.50\n",
       "In         India  New Delhi   3.486     1252.00\n",
       "Ch         China    Beijing   9.597     1357.00\n",
       "SA  South Africa   Pretoria   1.221       52.98"
      ]
     },
     "execution_count": 40,
     "metadata": {},
     "output_type": "execute_result"
    }
   ],
   "source": [
    "brics.index = [\"BR\",\"RU\",\"In\",\"Ch\",\"SA\"]\n",
    "brics"
   ]
  },
  {
   "cell_type": "markdown",
   "metadata": {},
   "source": [
    "<h1 style = 'color:red'>Lets see if it works</h1>"
   ]
  },
  {
   "cell_type": "markdown",
   "metadata": {},
   "source": [
    "## LOC and ILOC"
   ]
  },
  {
   "cell_type": "markdown",
   "metadata": {},
   "source": [
    "LOC and ILOC are used to return either a series or a data frame depending on whether the singular [] or [[]] is used.\n",
    "\n",
    "LOC Works by using the string of the index or column to locate the record\n",
    "\n",
    "ILOC uses the index number of the record to return the requested data\n",
    "\n",
    "using a call such as brics.loc[:, [\"BR\"]] will return a data frame with all of the rows for that request becuase of the :, for that request while a single [] would return a pandas series"
   ]
  },
  {
   "cell_type": "markdown",
   "metadata": {},
   "source": [
    "## comparison operators\n",
    "\n",
    "2<3\n",
    "True\n",
    "2 == 2\n",
    "True\n",
    "2>3\n",
    "False\n",
    "2 != 3\n",
    "True"
   ]
  },
  {
   "cell_type": "markdown",
   "metadata": {},
   "source": [
    "# Booleans\n",
    "\n",
    "## AND\n",
    "\n",
    "and will show true only if all arguments are true and false otherwise\n",
    "\n",
    "## OR \n",
    "\n",
    "or will show true if either arguement is true will return false if both are false\n",
    "\n",
    "## NOT\n",
    "\n",
    "simply negates the boolean you use it on. not True = false and not False = True"
   ]
  },
  {
   "cell_type": "markdown",
   "metadata": {},
   "source": [
    "## Logical \n",
    "## AND \n",
    "## OR\n",
    "## NOT\n",
    "\n",
    "through numpy will allow you to use comparisons across arrays without an error."
   ]
  },
  {
   "cell_type": "markdown",
   "metadata": {},
   "source": [
    "## if ELSE and ELIF"
   ]
  },
  {
   "cell_type": "code",
   "execution_count": 41,
   "metadata": {},
   "outputs": [
    {
     "name": "stdout",
     "output_type": "stream",
     "text": [
      "It is true\n"
     ]
    }
   ],
   "source": [
    "if True:\n",
    "    print('It is true')\n",
    "    "
   ]
  },
  {
   "cell_type": "code",
   "execution_count": 42,
   "metadata": {},
   "outputs": [
    {
     "name": "stdout",
     "output_type": "stream",
     "text": [
      "Equals 10 duh\n"
     ]
    }
   ],
   "source": [
    "data = 10\n",
    "if data < 10:\n",
    "    print('less than 10')\n",
    "elif data > 10:\n",
    "    print('greater than 10')\n",
    "else:\n",
    "    print('Equals 10 duh')\n",
    "    "
   ]
  },
  {
   "cell_type": "markdown",
   "metadata": {},
   "source": [
    "## Filtering pandas DataFrames"
   ]
  },
  {
   "cell_type": "markdown",
   "metadata": {},
   "source": [
    "Select the data\n",
    "Set it to a variable\n",
    "then use it as a subset to the orginal DataFrame"
   ]
  },
  {
   "cell_type": "markdown",
   "metadata": {},
   "source": [
    "# Loops FOR WHILE "
   ]
  },
  {
   "cell_type": "markdown",
   "metadata": {},
   "source": [
    "# While Loop\n"
   ]
  },
  {
   "cell_type": "code",
   "execution_count": 43,
   "metadata": {},
   "outputs": [
    {
     "name": "stdout",
     "output_type": "stream",
     "text": [
      "12.5\n",
      "3.125\n",
      "0.78125\n"
     ]
    }
   ],
   "source": [
    "# The while loop will repeat an action until the condition is met.\n",
    "# while True:\n",
    "#       expression\n",
    "error = 50.0\n",
    "\n",
    "while error > 1:\n",
    "    error /=4\n",
    "    print(error)"
   ]
  },
  {
   "cell_type": "code",
   "execution_count": 44,
   "metadata": {},
   "outputs": [
    {
     "name": "stdout",
     "output_type": "stream",
     "text": [
      "correcting...\n",
      "-9\n",
      "correcting...\n",
      "-8\n",
      "correcting...\n",
      "-7\n",
      "correcting...\n",
      "-6\n",
      "correcting...\n",
      "-5\n",
      "correcting...\n",
      "-4\n",
      "correcting...\n",
      "-3\n",
      "correcting...\n",
      "-2\n",
      "correcting...\n",
      "-1\n",
      "correcting...\n",
      "0\n"
     ]
    }
   ],
   "source": [
    "offset = -10\n",
    "\n",
    "while offset != 0:\n",
    "    print(\"correcting...\")\n",
    "    if offset < 0:\n",
    "        offset += 1\n",
    "    else:\n",
    "        offset -= 1\n",
    "    print(offset)"
   ]
  },
  {
   "cell_type": "markdown",
   "metadata": {},
   "source": [
    "# For Loop\n",
    "\n",
    "### For each Var Execute a sequence\n",
    "\n",
    "#### The for loop iterates through the array and returns its values depending on the conditions given to sort the values"
   ]
  },
  {
   "cell_type": "code",
   "execution_count": 45,
   "metadata": {},
   "outputs": [
    {
     "name": "stdout",
     "output_type": "stream",
     "text": [
      "1.73\n",
      "1.23\n",
      "1.54\n",
      "1.76\n",
      "1.75\n"
     ]
    }
   ],
   "source": [
    "fam = [1.73,1.23,1.54,1.76,1.75]\n",
    "for height in fam:\n",
    "    print(height)"
   ]
  },
  {
   "cell_type": "markdown",
   "metadata": {},
   "source": [
    "### Adding the use of an index to the loop\n",
    "\n",
    "#### the enumerate function assigns an index to each item in an iterable object that can be used to reference the item later\n",
    "\n",
    "#### This makes it easier to keep track of the content in an iterable object\n"
   ]
  },
  {
   "cell_type": "code",
   "execution_count": 46,
   "metadata": {},
   "outputs": [
    {
     "name": "stdout",
     "output_type": "stream",
     "text": [
      "Index 0 : 1.73\n",
      "Index 1 : 1.23\n",
      "Index 2 : 1.54\n",
      "Index 3 : 1.76\n",
      "Index 4 : 1.75\n"
     ]
    }
   ],
   "source": [
    "for index, height in enumerate(fam):\n",
    "    print(f\"Index {index} : {height}\")"
   ]
  },
  {
   "cell_type": "code",
   "execution_count": 47,
   "metadata": {},
   "outputs": [
    {
     "name": "stdout",
     "output_type": "stream",
     "text": [
      "F\n",
      "A\n",
      "M\n",
      "I\n",
      "L\n",
      "Y\n"
     ]
    }
   ],
   "source": [
    "for c in \"family\":\n",
    "    print(c.capitalize())"
   ]
  },
  {
   "cell_type": "code",
   "execution_count": 48,
   "metadata": {},
   "outputs": [
    {
     "data": {
      "text/plain": [
       "'y'"
      ]
     },
     "execution_count": 48,
     "metadata": {},
     "output_type": "execute_result"
    }
   ],
   "source": [
    "c"
   ]
  },
  {
   "cell_type": "code",
   "execution_count": 49,
   "metadata": {},
   "outputs": [
    {
     "name": "stdout",
     "output_type": "stream",
     "text": [
      "y\n"
     ]
    }
   ],
   "source": [
    "print(c)"
   ]
  },
  {
   "cell_type": "markdown",
   "metadata": {},
   "source": [
    "# Using and creating random numbers"
   ]
  },
  {
   "cell_type": "code",
   "execution_count": 52,
   "metadata": {},
   "outputs": [
    {
     "name": "stdout",
     "output_type": "stream",
     "text": [
      "3\n",
      "5\n",
      "3\n",
      "2\n"
     ]
    }
   ],
   "source": [
    "# using numpy we can create random numbers with numpy.random.rand and numy.random.randint\n",
    "import numpy as np\n",
    "dice = np.random.randint(1,7)\n",
    "print(dice)\n",
    "\n",
    "dice = np.random.randint(1,7)\n",
    "print(dice)\n",
    "\n",
    "dice = np.random.randint(1,7)\n",
    "print(dice)\n",
    "\n",
    "dice = np.random.randint(1,7)\n",
    "print(dice)"
   ]
  },
  {
   "cell_type": "markdown",
   "metadata": {},
   "source": [
    "## np.random.seed\n",
    "\n",
    "The seed is so that we can create a reproducable outcome. If the the seed is set the same everytime then the random numbers will be the same everytime. \n",
    "\n",
    "If you do not set the seed then the numbers will not be reproducible."
   ]
  },
  {
   "cell_type": "markdown",
   "metadata": {},
   "source": [
    "# Build an list from a random number generator with a for loop "
   ]
  },
  {
   "cell_type": "code",
   "execution_count": 57,
   "metadata": {},
   "outputs": [
    {
     "name": "stdout",
     "output_type": "stream",
     "text": [
      "['heads', 'tails', 'heads', 'heads', 'heads', 'heads', 'heads', 'tails', 'tails', 'heads']\n",
      "['heads', 'tails', 'heads', 'heads', 'heads', 'heads', 'heads', 'tails', 'tails', 'heads']\n"
     ]
    }
   ],
   "source": [
    "# import numpy as np\n",
    "import numpy as np\n",
    "# by setting the seed the random number is reproducible because when you set the seed everytime it uses the seed\n",
    "# to produce the random number\n",
    "np.random.seed(123)\n",
    "# create an empty list\n",
    "outcomes = []\n",
    "# for loop that will append the strings heads or tails to the outcomes list depending on whether the random number\n",
    "# is a 0 or a 1\n",
    "for x in range(10):\n",
    "    coin = np.random.randint(0,2)\n",
    "    if coin == 0 :\n",
    "        outcomes.append('heads')\n",
    "    else :\n",
    "        outcomes.append(\"tails\")\n",
    "# print outcomes twice and both lists are identical because the np.random.seed(123) is set the same for both iteration\n",
    "# through the range\n",
    "print(outcomes)\n",
    "print(outcomes)"
   ]
  },
  {
   "cell_type": "markdown",
   "metadata": {},
   "source": [
    "## Heads or tails random walk"
   ]
  },
  {
   "cell_type": "code",
   "execution_count": 61,
   "metadata": {},
   "outputs": [
    {
     "name": "stdout",
     "output_type": "stream",
     "text": [
      "[0, 0, 1, 1, 1, 1, 1, 1, 2, 3, 3]\n",
      "[0, 0, 1, 1, 1, 1, 1, 1, 2, 3, 3]\n"
     ]
    }
   ],
   "source": [
    "import numpy as np\n",
    "np.random.seed(123)\n",
    "tails = [0]\n",
    "for x in range(10):\n",
    "    coin = np.random.randint(0,2)\n",
    "    tails.append(tails[x] + coin)\n",
    "    \n",
    "print(tails)\n",
    "print(tails)"
   ]
  },
  {
   "cell_type": "markdown",
   "metadata": {},
   "source": [
    "## Random walk with dice"
   ]
  },
  {
   "cell_type": "code",
   "execution_count": 62,
   "metadata": {},
   "outputs": [
    {
     "data": {
      "image/png": "[encoded data removed]",
      "text/plain": [
       "<Figure size 432x288 with 1 Axes>"
      ]
     },
     "metadata": {
      "needs_background": "light"
     },
     "output_type": "display_data"
    }
   ],
   "source": [
    "import numpy as np\n",
    "import matplotlib.pyplot as plt\n",
    "# allow the line graph to be show inline\n",
    "%matplotlib inline\n",
    "\n",
    "# sets the seed so that the random numbers are reproducible as long as the seed is the same each time\n",
    "np.random.seed(123)\n",
    "# initialize a list with the value of 0\n",
    "random_walk = [0]\n",
    "\n",
    "# for loop that will iterate 100 times and each time will increase the step by 1 if the roll is greater than 2 but\n",
    "# not 6 and will decrease the step by one if the number is 2 or less. if the number is 6 then the step will increase \n",
    "# by the number that is rolled\n",
    "for x in range(100):\n",
    "    # sets the step as the last value of the list\n",
    "    step = random_walk[-1]\n",
    "    # creates a random number between 1-6 and sets the value of dice = to that number\n",
    "    dice = np.random.randint(1,7)\n",
    "    \n",
    "    # if < 2 then step -1\n",
    "    if dice <= 2:\n",
    "        # uses max to ensure that the step can not go below 0\n",
    "        step = max(0,step -1)\n",
    "        # if less than 5 greater than 2 step + 1\n",
    "    elif dice <= 5:\n",
    "        step = step + 1\n",
    "        # if a 6 step plus a random number on the dice\n",
    "    else:\n",
    "        step = step + np.random.randint(1,7)\n",
    "        \n",
    "        # append the last step to the list\n",
    "    random_walk.append(step)\n",
    "    \n",
    "# plot and show the list random_walk\n",
    "plt.plot(random_walk)\n",
    "plt.show()"
   ]
  },
  {
   "cell_type": "code",
   "execution_count": null,
   "metadata": {},
   "outputs": [],
   "source": []
  }
 ],
 "metadata": {
  "kernelspec": {
   "display_name": "Python 3",
   "language": "python",
   "name": "python3"
  },
  "language_info": {
   "codemirror_mode": {
    "name": "ipython",
    "version": 3
   },
   "file_extension": ".py",
   "mimetype": "text/x-python",
   "name": "python",
   "nbconvert_exporter": "python",
   "pygments_lexer": "ipython3",
   "version": "3.8.3"
  }
 },
 "nbformat": 4,
 "nbformat_minor": 4
}
